{
 "cells": [
  {
   "attachments": {},
   "cell_type": "markdown",
   "id": "637b47a5",
   "metadata": {},
   "source": [
    "## Programming Assignment_1\n",
    "-------------"
   ]
  },
  {
   "attachments": {},
   "cell_type": "markdown",
   "id": "0c647dbe",
   "metadata": {},
   "source": [
    "### 1. Write a Python program to print \"Hello Python\"?\n",
    "##### Sol:"
   ]
  },
  {
   "cell_type": "code",
   "execution_count": 1,
   "id": "732cbadd",
   "metadata": {},
   "outputs": [
    {
     "name": "stdout",
     "output_type": "stream",
     "text": [
      "Hello Python\n"
     ]
    }
   ],
   "source": [
    "print(\"Hello Python\")"
   ]
  },
  {
   "attachments": {},
   "cell_type": "markdown",
   "id": "fc18a6cd",
   "metadata": {},
   "source": [
    "### 2. Write a Python program to do arithmetical operations addition and division.?\n",
    "##### Sol:"
   ]
  },
  {
   "cell_type": "code",
   "execution_count": 4,
   "id": "d5e81491",
   "metadata": {},
   "outputs": [
    {
     "name": "stdout",
     "output_type": "stream",
     "text": [
      "addition is 25\n",
      "division is 4.0\n"
     ]
    }
   ],
   "source": [
    "a = 20\n",
    "b = 5\n",
    "\n",
    "print(\"addition is\",a+b)\n",
    "print(\"division is\",a/b)"
   ]
  },
  {
   "attachments": {},
   "cell_type": "markdown",
   "id": "af6e2429",
   "metadata": {},
   "source": [
    "### 3. Write a Python program to find the area of a triangle?\n",
    "##### Sol:"
   ]
  },
  {
   "cell_type": "code",
   "execution_count": 5,
   "id": "d5d93846",
   "metadata": {},
   "outputs": [
    {
     "name": "stdout",
     "output_type": "stream",
     "text": [
      "Area of triangle: 10.0\n"
     ]
    }
   ],
   "source": [
    "h = 10\n",
    "b = 2\n",
    "\n",
    "area = h*b/2\n",
    "\n",
    "print(\"Area of triangle:\", area)"
   ]
  },
  {
   "attachments": {},
   "cell_type": "markdown",
   "id": "b8140061",
   "metadata": {},
   "source": [
    "### 4. Write a Python program to swap two variables?\n",
    "##### Sol:"
   ]
  },
  {
   "cell_type": "code",
   "execution_count": 9,
   "id": "182608ba",
   "metadata": {},
   "outputs": [
    {
     "name": "stdout",
     "output_type": "stream",
     "text": [
      "Before swap:\n",
      "var1 = 5 and var2 = 10\n",
      "\n",
      "After swap:\n",
      "var1 = 10 and var2 = 5\n"
     ]
    }
   ],
   "source": [
    "a = 5\n",
    "b = 10\n",
    "\n",
    "print('Before swap:\\nvar1 = {} and var2 = {}'.format(a, b))\n",
    "\n",
    "temp = a\n",
    "a = b\n",
    "b = temp\n",
    "print('\\nAfter swap:\\nvar1 = {} and var2 = {}'.format(a, b))"
   ]
  },
  {
   "attachments": {},
   "cell_type": "markdown",
   "id": "3f8054c1",
   "metadata": {},
   "source": [
    "### 5. Write a Python program to generate a random number?\n",
    "##### Sol:"
   ]
  },
  {
   "cell_type": "code",
   "execution_count": 6,
   "id": "f1e76df9",
   "metadata": {},
   "outputs": [
    {
     "name": "stdout",
     "output_type": "stream",
     "text": [
      "0.7811833188261824\n",
      "74\n"
     ]
    }
   ],
   "source": [
    "import random\n",
    "\n",
    "# any random number :\n",
    "print(random.random())\n",
    "\n",
    "# generating random number between 1 & 1000 :\n",
    "print(random.randint(1, 1000))"
   ]
  },
  {
   "cell_type": "code",
   "execution_count": null,
   "id": "3ab18c00",
   "metadata": {},
   "outputs": [],
   "source": []
  }
 ],
 "metadata": {
  "kernelspec": {
   "display_name": "Python 3 (ipykernel)",
   "language": "python",
   "name": "python3"
  },
  "language_info": {
   "codemirror_mode": {
    "name": "ipython",
    "version": 3
   },
   "file_extension": ".py",
   "mimetype": "text/x-python",
   "name": "python",
   "nbconvert_exporter": "python",
   "pygments_lexer": "ipython3",
   "version": "3.9.10"
  }
 },
 "nbformat": 4,
 "nbformat_minor": 5
}
