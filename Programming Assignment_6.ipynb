{
 "cells": [
  {
   "attachments": {},
   "cell_type": "markdown",
   "id": "84a41a9f",
   "metadata": {},
   "source": [
    "# Programming Basic Assignment 6"
   ]
  },
  {
   "attachments": {},
   "cell_type": "markdown",
   "id": "a4b40558",
   "metadata": {},
   "source": [
    "------------\n",
    "### 1. Write a Python Program to Display Fibonacci Sequence Using Recursion?"
   ]
  },
  {
   "cell_type": "code",
   "execution_count": 1,
   "id": "e1b8420c",
   "metadata": {},
   "outputs": [
    {
     "name": "stdout",
     "output_type": "stream",
     "text": [
      "0 1 1 2 3 5 8 13 21 34 "
     ]
    }
   ],
   "source": [
    "def fib(a,b,c):\n",
    "    if c > 0:\n",
    "        c -= 1\n",
    "        print(a, end=' ')\n",
    "        temp = b\n",
    "        b = a + b\n",
    "        a = temp\n",
    "        fib(a,b,c)\n",
    "\n",
    "fib(0,1,10)        "
   ]
  },
  {
   "attachments": {},
   "cell_type": "markdown",
   "id": "d7a57f60",
   "metadata": {},
   "source": [
    "-------------------\n",
    "### 2. Write a Python Program to Find Factorial of Number Using Recursion?"
   ]
  },
  {
   "cell_type": "code",
   "execution_count": 2,
   "id": "2cdea8e5",
   "metadata": {},
   "outputs": [
    {
     "data": {
      "text/plain": [
       "120"
      ]
     },
     "execution_count": 2,
     "metadata": {},
     "output_type": "execute_result"
    }
   ],
   "source": [
    "def fact(n):\n",
    "    if n == 0:\n",
    "        return 1\n",
    "    else:\n",
    "        return n*fact(n-1)\n",
    "    \n",
    "fact(5)    "
   ]
  },
  {
   "attachments": {},
   "cell_type": "markdown",
   "id": "0357b86f",
   "metadata": {},
   "source": [
    "-------------\n",
    "### 3. Write a Python Program to calculate your Body Mass Index?"
   ]
  },
  {
   "cell_type": "code",
   "execution_count": 3,
   "id": "ae7411ea",
   "metadata": {},
   "outputs": [
    {
     "data": {
      "text/plain": [
       "21.604938271604937"
      ]
     },
     "execution_count": 3,
     "metadata": {},
     "output_type": "execute_result"
    }
   ],
   "source": [
    "def bmi(height, weight):\n",
    "    \n",
    "    return weight/(height*height)\n",
    "\n",
    "bmi(1.8, 70)"
   ]
  },
  {
   "attachments": {},
   "cell_type": "markdown",
   "id": "96d344a4",
   "metadata": {},
   "source": [
    "--------------\n",
    "### 4. Write a Python Program to calculate the natural logarithm of any number?"
   ]
  },
  {
   "cell_type": "code",
   "execution_count": 5,
   "id": "967b521c",
   "metadata": {},
   "outputs": [
    {
     "name": "stdout",
     "output_type": "stream",
     "text": [
      "log value is : 2.302585092994046\n"
     ]
    }
   ],
   "source": [
    "import math\n",
    "\n",
    "try:\n",
    "    num = int(input(\"Enter the number: \"))\n",
    "except Exception as e:\n",
    "    print(e)\n",
    "else:\n",
    "    print(\"log value is :\",math.log(num))"
   ]
  },
  {
   "attachments": {},
   "cell_type": "markdown",
   "id": "11c0d92c",
   "metadata": {},
   "source": [
    "------------\n",
    "### 5. Write a Python Program for cube sum of first n natural numbers?\n"
   ]
  },
  {
   "cell_type": "code",
   "execution_count": 6,
   "id": "04a60dbe",
   "metadata": {},
   "outputs": [
    {
     "data": {
      "text/plain": [
       "216"
      ]
     },
     "execution_count": 6,
     "metadata": {},
     "output_type": "execute_result"
    }
   ],
   "source": [
    "def cubN(n):\n",
    "    return sum(range(n+1))**3\n",
    "\n",
    "cubN(3)"
   ]
  }
 ],
 "metadata": {
  "kernelspec": {
   "display_name": "Python 3 (ipykernel)",
   "language": "python",
   "name": "python3"
  },
  "language_info": {
   "codemirror_mode": {
    "name": "ipython",
    "version": 3
   },
   "file_extension": ".py",
   "mimetype": "text/x-python",
   "name": "python",
   "nbconvert_exporter": "python",
   "pygments_lexer": "ipython3",
   "version": "3.9.10"
  }
 },
 "nbformat": 4,
 "nbformat_minor": 5
}
